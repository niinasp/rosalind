{
 "cells": [
  {
   "cell_type": "markdown",
   "metadata": {},
   "source": [
    "## Open Reading Frames\n",
    "Rosalind problem"
   ]
  },
  {
   "cell_type": "markdown",
   "metadata": {},
   "source": [
    "## Problem\n",
    "\n",
    "Either strand of a DNA double helix can serve as the coding strand for RNA transcription. Hence, a given DNA string implies six total reading frames, or ways in which the same region of DNA can be translated into amino acids: three reading frames result from reading the string itself, whereas three more result from reading its reverse complement.\n",
    "\n",
    "An open reading frame (ORF) is one which starts from the start codon and ends by stop codon, without any other stop codons in between. Thus, a candidate protein string is derived by translating an open reading frame into amino acids until a stop codon is reached.\n",
    "\n",
    "Given: A DNA string s\n",
    "\n",
    "of length at most 1 kbp in FASTA format.\n",
    "\n",
    "Return: Every distinct candidate protein string that can be translated from ORFs of s\n",
    ". Strings can be returned in any order."
   ]
  },
  {
   "cell_type": "code",
   "execution_count": null,
   "metadata": {},
   "outputs": [],
   "source": [
    "import regex as re\n",
    "from Bio.Data import CodonTable\n",
    "from Bio.Alphabet import generic_dna\n",
    "from Bio.Seq import Seq\n",
    "\n",
    "# get sequence from file\n",
    "f = open('C:/Users/nisusi/Google Drive/mdp_bioinformatics/rosalind/bioinformatics stronghold/rosalind_orf.txt', \"r\")\n",
    "seq = \"\"\n",
    "for line in f:\n",
    "    if not line.startswith(\">\"):\n",
    "        seq = seq + line.strip()\n",
    "\n",
    "# Example sequence    \n",
    "# seq = \"AGCCATGTAGCTAACTCAGGTTACATGGGGATGACCCCGCGACTTGGATTAGAGTCTCTTTTGGAATAAGCCTGAATGATCCGAGTAGCATCTCAG\"\n",
    "\n",
    "seq = Seq(seq, generic_dna) # Make sequence object\n",
    "def find_orfs(seq):\n",
    "    prots = []\n",
    "    for i in range(0,3): # Check all 3 reading frames\n",
    "        seq_temp = seq[i:]\n",
    "        prot = seq_temp.translate() # translate to protein\n",
    "        m = re.findall('(M\\w*)\\*', str(prot), overlapped = True) # Find all (also overlapping) patterns that start with M and end with *\n",
    "        prots = prots + m\n",
    "    return(prots)\n",
    "\n",
    "plus = find_orfs(seq) # Find ORFs in forward strand\n",
    "minus = find_orfs(seq.reverse_complement()) # find ORFs in reverse strand\n",
    "both = plus + minus\n",
    "both = set(both)\n",
    "for p in both:\n",
    "    print(p)\n"
   ]
  }
 ],
 "metadata": {
  "kernelspec": {
   "display_name": "Python 3",
   "language": "python",
   "name": "python3"
  },
  "language_info": {
   "codemirror_mode": {
    "name": "ipython",
    "version": 3
   },
   "file_extension": ".py",
   "mimetype": "text/x-python",
   "name": "python",
   "nbconvert_exporter": "python",
   "pygments_lexer": "ipython3",
   "version": "3.6.4"
  }
 },
 "nbformat": 4,
 "nbformat_minor": 2
}
