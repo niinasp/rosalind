{
 "cells": [
  {
   "cell_type": "markdown",
   "metadata": {},
   "source": [
    "Problem\n",
    "\n",
    "After identifying the exons and introns of an RNA string, we only need to delete the introns and concatenate the exons to form a new string ready for translation.\n",
    "\n",
    "Given: A DNA string s (of length at most 1 kbp) and a collection of substrings of s acting as introns. All strings are given in FASTA format.\n",
    "\n",
    "Return: A protein string resulting from transcribing and translating the exons of s. (Note: Only one solution will exist for the dataset provided.)\n",
    "Sample Dataset\n",
    "\n",
    ">Rosalind_10\n",
    "ATGGTCTACATAGCTGACAAACAGCACGTAGCAATCGGTCGAATCTCGAGAGGCATATGGTCACATGATCGGTCGAGCGTGTTTCAAAGTTTGCGCCTAG\n",
    ">Rosalind_12\n",
    "ATCGGTCGAA\n",
    ">Rosalind_15\n",
    "ATCGGTCGAGCGTGT\n",
    "\n",
    "Sample Output \n",
    "\n",
    "MVYIADKQHVASREAYGHMFKVCA  \n"
   ]
  },
  {
   "cell_type": "code",
   "execution_count": 21,
   "metadata": {},
   "outputs": [
    {
     "name": "stdout",
     "output_type": "stream",
     "text": [
      "MTKASCRPWLHTRGGARRQSFAGKVITGLLLLRLPYQLYQEPSTISEAYVDISITFLLSLNGRYTSLVVCLFPYRAPMEVIDRGSHGEDKTILQMDGVYASILGVRLITVLYIGGCQHVLCTSGTPKWFIAQGQLHLSGYEGQCHSRRSIDDPGGGVLTGYFGPLTKGSDYIQVARRHGTNPRP\n"
     ]
    },
    {
     "name": "stderr",
     "output_type": "stream",
     "text": [
      "C:\\Users\\Niina\\Anaconda3\\lib\\site-packages\\Bio\\Seq.py:155: BiopythonWarning: Biopython Seq objects now use string comparison. Older versions of Biopython used object comparison. During this transition, please use hash(id(my_seq)) or my_dict[id(my_seq)] if you want the old behaviour, or use hash(str(my_seq)) or my_dict[str(my_seq)] for the new string hashing behaviour.\n",
      "  \"the new string hashing behaviour.\", BiopythonWarning)\n"
     ]
    }
   ],
   "source": [
    "from Bio import SeqIO\n",
    "from collections import OrderedDict\n",
    "\n",
    "sequences = []\n",
    "path = \"C:/Users/niina/Google Drive/mdp_bioinformatics/rosalind/bioinformatics stronghold/\"\n",
    "file = \"rosalind_splc.txt\"\n",
    "f = path+file\n",
    "\n",
    "# read data\n",
    "for record in SeqIO.parse(f, \"fasta\"):\n",
    "    sequences.append(record.seq)\n",
    "    \n",
    "# DNA string\n",
    "s = sequences[0]\n",
    "# introns as a list\n",
    "sequences = sequences[1:]\n",
    "\n",
    "# Collect starts of introns into ordered dictionary\n",
    "starts = {}\n",
    "for seq in sequences:\n",
    "    starts[seq] = s.find(seq)\n",
    "starts = OrderedDict(sorted(starts.items(), key=lambda x: x[1]))\n",
    "  \n",
    "\n",
    "s_new = \"\" # exons will be added into this \n",
    "start = 0 # first exon starts at zero\n",
    "for k, v in starts.items():\n",
    "    s_new = s_new + s[start:v] # exons\n",
    "    start = v + len(k) # calculate next exon start site\n",
    "s_new = s_new + s[start:] # add final exon\n",
    "print(s_new.translate(stop_symbol = \"\"))"
   ]
  },
  {
   "cell_type": "code",
   "execution_count": null,
   "metadata": {},
   "outputs": [],
   "source": []
  }
 ],
 "metadata": {
  "kernelspec": {
   "display_name": "Python 3",
   "language": "python",
   "name": "python3"
  },
  "language_info": {
   "codemirror_mode": {
    "name": "ipython",
    "version": 3
   },
   "file_extension": ".py",
   "mimetype": "text/x-python",
   "name": "python",
   "nbconvert_exporter": "python",
   "pygments_lexer": "ipython3",
   "version": "3.6.4"
  }
 },
 "nbformat": 4,
 "nbformat_minor": 2
}
